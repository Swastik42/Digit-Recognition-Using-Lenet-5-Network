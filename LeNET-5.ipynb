{
  "nbformat": 4,
  "nbformat_minor": 0,
  "metadata": {
    "colab": {
      "provenance": [],
      "collapsed_sections": []
    },
    "kernelspec": {
      "name": "python3",
      "display_name": "Python 3"
    },
    "language_info": {
      "name": "python"
    },
    "accelerator": "GPU"
  },
  "cells": [
    {
      "cell_type": "markdown",
      "metadata": {
        "id": "DpFMUZ2F4aSH"
      },
      "source": [
        "#**Hand Written Digit Recognition by Convolution Neural Network**"
      ]
    },
    {
      "cell_type": "code",
      "metadata": {
        "id": "c1HFFZFsNkjw"
      },
      "source": [
        "import numpy as np\n",
        "import matplotlib.pyplot as plt\n",
        "import pandas \n",
        "import tensorflow as tf"
      ],
      "execution_count": null,
      "outputs": []
    },
    {
      "cell_type": "markdown",
      "metadata": {
        "id": "5HX-Z6QD5AJu"
      },
      "source": [
        "#Load the data"
      ]
    },
    {
      "cell_type": "code",
      "metadata": {
        "id": "xObtgb5hl5zj"
      },
      "source": [
        "model=tf.keras.models.load_model(\"/content/drive/MyDrive/Digit Recognition/model.h5\")"
      ],
      "execution_count": null,
      "outputs": []
    },
    {
      "cell_type": "code",
      "metadata": {
        "id": "yUrijR5lN7tp"
      },
      "source": [
        "data_frame=pandas.read_excel(\"/content/drive/MyDrive/Digit Recognition/train_update.xlsx\")   # Time 6m 52s"
      ],
      "execution_count": null,
      "outputs": []
    },
    {
      "cell_type": "code",
      "metadata": {
        "id": "QKMslTtNTcST"
      },
      "source": [
        "training_data=32000 \n",
        "train_X=np.zeros((training_data,28,28))\n",
        "train_Y=np.zeros((training_data,10))\n",
        "for i in range(training_data):\n",
        "    temp=list(data_frame.iloc[i,:])\n",
        "    train_Y[i,temp[0]-1]=1\n",
        "    temp=np.array(temp[1:len(temp)])\n",
        "    temp=temp.reshape((28,28))\n",
        "\n",
        "    for j in range(28):\n",
        "      for k in range(28):\n",
        "        train_X[i,j,k]=temp[j,k]\n",
        "\n",
        "test_X = np.zeros((len(data_frame)-training_data,28,28))\n",
        "test_Y = np.zeros((len(data_frame)-training_data,10))\n",
        "\n",
        "for i in range(training_data,len(data_frame)):\n",
        "    temp=list(data_frame.iloc[i,:])\n",
        "    test_Y[i-training_data,temp[0]-1]=1\n",
        "    temp=np.array(temp[1:len(temp)])\n",
        "    temp=temp.reshape((28,28))\n",
        "\n",
        "    for j in range(28):\n",
        "      for k in range(28):\n",
        "        test_X[i-training_data,j,k]=temp[j,k]\n",
        "# Time 35s"
      ],
      "execution_count": null,
      "outputs": []
    },
    {
      "cell_type": "code",
      "metadata": {
        "id": "PmikxlEYZ_xC",
        "colab": {
          "base_uri": "https://localhost:8080/",
          "height": 300
        },
        "outputId": "9a735537-18ea-4488-f23d-fa824867023f"
      },
      "source": [
        "# Pick a random Image and Check it \n",
        "random=np.random.randint(0,25000,1)\n",
        "print(train_Y[random])\n",
        "plt.imshow(train_X[random[0]],cmap='gray')"
      ],
      "execution_count": null,
      "outputs": [
        {
          "output_type": "stream",
          "text": [
            "[[0. 0. 1. 0. 0. 0. 0. 0. 0. 0.]]\n"
          ],
          "name": "stdout"
        },
        {
          "output_type": "execute_result",
          "data": {
            "text/plain": [
              "<matplotlib.image.AxesImage at 0x7f32c004bcd0>"
            ]
          },
          "metadata": {
            "tags": []
          },
          "execution_count": 19
        },
        {
          "output_type": "display_data",
          "data": {
            "image/png": "[encoded data removed]",
            "text/plain": [
              "<Figure size 432x288 with 1 Axes>"
            ]
          },
          "metadata": {
            "tags": [],
            "needs_background": "light"
          }
        }
      ]
    },
    {
      "cell_type": "code",
      "metadata": {
        "id": "YR3bzjqEaJ0u"
      },
      "source": [
        "def model(input_size=(28,28,1)):\n",
        "    inputs = tf.keras.Input(shape=input_size)\n",
        "    X = tf.keras.layers.Conv2D(filters=6,kernel_size=(3,3),padding='SAME')(inputs)\n",
        "    X = tf.keras.layers.BatchNormalization(axis=3)(X)\n",
        "    X = tf.keras.layers.ReLU()(X)\n",
        "    X = tf.keras.layers.MaxPool2D(pool_size=2,strides=2)(X)\n",
        "    X_shortcut = X\n",
        "    # 1st Path\n",
        "    X = tf.keras.layers.Conv2D(filters=16,kernel_size=(3,3),padding='SAME')(X)\n",
        "    X = tf.keras.layers.BatchNormalization(axis=3)(X)\n",
        "    X1 = X\n",
        "    # 2nd Path\n",
        "    X = tf.keras.layers.Conv2D(filters=16,kernel_size=(1,1),padding='SAME')(X_shortcut)\n",
        "    X = tf.keras.layers.BatchNormalization(axis=3)(X)\n",
        "    X2 = X\n",
        "    # 3rd Path\n",
        "    X = tf.keras.layers.Conv2D(filters=16,kernel_size=(5,5),padding='SAME')(X_shortcut)\n",
        "    X = tf.keras.layers.BatchNormalization(axis=3)(X)\n",
        "    X3 = X\n",
        "    # ADD\n",
        "    X = tf.keras.layers.Add()([X1,X2,X3])\n",
        "    X = tf.keras.layers.ReLU()(X)\n",
        "    X = tf.keras.layers.AveragePooling2D(pool_size=(2,2),strides=(2,2))(X)\n",
        "    X = tf.keras.layers.Flatten()(X)\n",
        "    X = tf.keras.layers.Dense(units=10,activation='softmax')(X)\n",
        "\n",
        "    model = tf.keras.Model(inputs=inputs,outputs=X)\n",
        "\n",
        "    return model\n"
      ],
      "execution_count": null,
      "outputs": []
    },
    {
      "cell_type": "code",
      "metadata": {
        "id": "OnCGG-IpW8YG",
        "colab": {
          "base_uri": "https://localhost:8080/"
        },
        "outputId": "24e9d147-0dd0-462d-be4a-4a46b636d8c6"
      },
      "source": [
        "model = model()\n",
        "model.summary()"
      ],
      "execution_count": null,
      "outputs": [
        {
          "output_type": "stream",
          "text": [
            "Model: \"model_9\"\n",
            "__________________________________________________________________________________________________\n",
            "Layer (type)                    Output Shape         Param #     Connected to                     \n",
            "==================================================================================================\n",
            "input_10 (InputLayer)           [(None, 28, 28, 1)]  0                                            \n",
            "__________________________________________________________________________________________________\n",
            "conv2d_36 (Conv2D)              (None, 28, 28, 6)    60          input_10[0][0]                   \n",
            "__________________________________________________________________________________________________\n",
            "batch_normalization_36 (BatchNo (None, 28, 28, 6)    24          conv2d_36[0][0]                  \n",
            "__________________________________________________________________________________________________\n",
            "re_lu_18 (ReLU)                 (None, 28, 28, 6)    0           batch_normalization_36[0][0]     \n",
            "__________________________________________________________________________________________________\n",
            "max_pooling2d_9 (MaxPooling2D)  (None, 14, 14, 6)    0           re_lu_18[0][0]                   \n",
            "__________________________________________________________________________________________________\n",
            "conv2d_37 (Conv2D)              (None, 14, 14, 16)   880         max_pooling2d_9[0][0]            \n",
            "__________________________________________________________________________________________________\n",
            "conv2d_38 (Conv2D)              (None, 14, 14, 16)   112         max_pooling2d_9[0][0]            \n",
            "__________________________________________________________________________________________________\n",
            "conv2d_39 (Conv2D)              (None, 14, 14, 16)   2416        max_pooling2d_9[0][0]            \n",
            "__________________________________________________________________________________________________\n",
            "batch_normalization_37 (BatchNo (None, 14, 14, 16)   64          conv2d_37[0][0]                  \n",
            "__________________________________________________________________________________________________\n",
            "batch_normalization_38 (BatchNo (None, 14, 14, 16)   64          conv2d_38[0][0]                  \n",
            "__________________________________________________________________________________________________\n",
            "batch_normalization_39 (BatchNo (None, 14, 14, 16)   64          conv2d_39[0][0]                  \n",
            "__________________________________________________________________________________________________\n",
            "add_9 (Add)                     (None, 14, 14, 16)   0           batch_normalization_37[0][0]     \n",
            "                                                                 batch_normalization_38[0][0]     \n",
            "                                                                 batch_normalization_39[0][0]     \n",
            "__________________________________________________________________________________________________\n",
            "re_lu_19 (ReLU)                 (None, 14, 14, 16)   0           add_9[0][0]                      \n",
            "__________________________________________________________________________________________________\n",
            "average_pooling2d_9 (AveragePoo (None, 7, 7, 16)     0           re_lu_19[0][0]                   \n",
            "__________________________________________________________________________________________________\n",
            "flatten_9 (Flatten)             (None, 784)          0           average_pooling2d_9[0][0]        \n",
            "__________________________________________________________________________________________________\n",
            "dense_9 (Dense)                 (None, 10)           7850        flatten_9[0][0]                  \n",
            "==================================================================================================\n",
            "Total params: 11,534\n",
            "Trainable params: 11,426\n",
            "Non-trainable params: 108\n",
            "__________________________________________________________________________________________________\n"
          ],
          "name": "stdout"
        }
      ]
    },
    {
      "cell_type": "code",
      "metadata": {
        "id": "SYIr8xSdZH2u",
        "colab": {
          "base_uri": "https://localhost:8080/"
        },
        "outputId": "0bcc0025-151e-4288-aee7-d12b7c378203"
      },
      "source": [
        "model.compile(optimizer='adam', loss='categorical_crossentropy', metrics=['accuracy'])\n",
        "history=model.fit(train_X,train_Y,batch_size=1024,epochs=25)\n",
        "# Runtime 5m 22s"
      ],
      "execution_count": null,
      "outputs": [
        {
          "output_type": "stream",
          "text": [
            "Epoch 1/25\n",
            "32/32 [==============================] - 1s 18ms/step - loss: 1.2823 - accuracy: 0.6073\n",
            "Epoch 2/25\n",
            "32/32 [==============================] - 0s 15ms/step - loss: 0.3990 - accuracy: 0.8859\n",
            "Epoch 3/25\n",
            "32/32 [==============================] - 1s 16ms/step - loss: 0.2577 - accuracy: 0.9265\n",
            "Epoch 4/25\n",
            "32/32 [==============================] - 1s 16ms/step - loss: 0.1970 - accuracy: 0.9458\n",
            "Epoch 5/25\n",
            "32/32 [==============================] - 0s 16ms/step - loss: 0.1597 - accuracy: 0.9556\n",
            "Epoch 6/25\n",
            "32/32 [==============================] - 1s 16ms/step - loss: 0.1343 - accuracy: 0.9624\n",
            "Epoch 7/25\n",
            "32/32 [==============================] - 1s 16ms/step - loss: 0.1164 - accuracy: 0.9673\n",
            "Epoch 8/25\n",
            "32/32 [==============================] - 1s 16ms/step - loss: 0.1025 - accuracy: 0.9714\n",
            "Epoch 9/25\n",
            "32/32 [==============================] - 1s 16ms/step - loss: 0.0918 - accuracy: 0.9740\n",
            "Epoch 10/25\n",
            "32/32 [==============================] - 0s 15ms/step - loss: 0.0831 - accuracy: 0.9768\n",
            "Epoch 11/25\n",
            "32/32 [==============================] - 1s 16ms/step - loss: 0.0773 - accuracy: 0.9778\n",
            "Epoch 12/25\n",
            "32/32 [==============================] - 0s 15ms/step - loss: 0.0711 - accuracy: 0.9799\n",
            "Epoch 13/25\n",
            "32/32 [==============================] - 0s 15ms/step - loss: 0.0662 - accuracy: 0.9812\n",
            "Epoch 14/25\n",
            "32/32 [==============================] - 1s 16ms/step - loss: 0.0629 - accuracy: 0.9817\n",
            "Epoch 15/25\n",
            "32/32 [==============================] - 0s 15ms/step - loss: 0.0589 - accuracy: 0.9831\n",
            "Epoch 16/25\n",
            "32/32 [==============================] - 0s 15ms/step - loss: 0.0560 - accuracy: 0.9838\n",
            "Epoch 17/25\n",
            "32/32 [==============================] - 0s 15ms/step - loss: 0.0530 - accuracy: 0.9841\n",
            "Epoch 18/25\n",
            "32/32 [==============================] - 0s 15ms/step - loss: 0.0505 - accuracy: 0.9854\n",
            "Epoch 19/25\n",
            "32/32 [==============================] - 0s 15ms/step - loss: 0.0492 - accuracy: 0.9850\n",
            "Epoch 20/25\n",
            "32/32 [==============================] - 0s 15ms/step - loss: 0.0465 - accuracy: 0.9865\n",
            "Epoch 21/25\n",
            "32/32 [==============================] - 0s 15ms/step - loss: 0.0450 - accuracy: 0.9864\n",
            "Epoch 22/25\n",
            "32/32 [==============================] - 0s 15ms/step - loss: 0.0429 - accuracy: 0.9874\n",
            "Epoch 23/25\n",
            "32/32 [==============================] - 1s 16ms/step - loss: 0.0419 - accuracy: 0.9878\n",
            "Epoch 24/25\n",
            "32/32 [==============================] - 0s 15ms/step - loss: 0.0399 - accuracy: 0.9880\n",
            "Epoch 25/25\n",
            "32/32 [==============================] - 0s 15ms/step - loss: 0.0393 - accuracy: 0.9886\n"
          ],
          "name": "stdout"
        }
      ]
    },
    {
      "cell_type": "code",
      "metadata": {
        "id": "Tb7rKZCXb2Ok",
        "colab": {
          "base_uri": "https://localhost:8080/",
          "height": 337
        },
        "outputId": "2fd76722-d731-445e-bb7f-a64eba2ec9ba"
      },
      "source": [
        "loss=history.history['loss']\n",
        "accuracy=history.history['accuracy']\n",
        "\n",
        "plt.figure(figsize=(15, 5))\n",
        "plt.subplot(1, 2, 1)\n",
        "plt.plot(accuracy, label='Training Accuracy')\n",
        "plt.ylabel('Accuracy')\n",
        "plt.xlabel('epoch')\n",
        "plt.ylim([0.5,1])\n",
        "plt.title('Training Accuracy')\n",
        "\n",
        "plt.subplot(1, 2, 2)\n",
        "plt.plot(loss, label='Training Loss')\n",
        "plt.ylabel('Categorical Cross Entropy')\n",
        "plt.ylim([0,0.9])\n",
        "plt.title('Training Loss')\n",
        "plt.xlabel('epoch')\n",
        "plt.show()"
      ],
      "execution_count": null,
      "outputs": [
        {
          "output_type": "display_data",
          "data": {
            "image/png": "[encoded data removed]",
            "text/plain": [
              "<Figure size 1080x360 with 2 Axes>"
            ]
          },
          "metadata": {
            "tags": [],
            "needs_background": "light"
          }
        }
      ]
    },
    {
      "cell_type": "code",
      "metadata": {
        "id": "TAhCCg1OmdRG",
        "colab": {
          "base_uri": "https://localhost:8080/"
        },
        "outputId": "792ed6ea-3589-4ebb-c3e6-966bafc6128e"
      },
      "source": [
        "# Check Test Accuracy on the model\n",
        "result=model.evaluate(test_X,test_Y)\n",
        "print(\"Test Accuracy : \"+str(result[1]*100))"
      ],
      "execution_count": null,
      "outputs": [
        {
          "output_type": "stream",
          "text": [
            "313/313 [==============================] - 1s 3ms/step - loss: 0.0553 - accuracy: 0.9842\n",
            "Test Accuracy : 98.42000007629395\n"
          ],
          "name": "stdout"
        }
      ]
    },
    {
      "cell_type": "code",
      "metadata": {
        "id": "dWwxu09DnMG7",
        "colab": {
          "base_uri": "https://localhost:8080/",
          "height": 1000
        },
        "outputId": "0fc2ccbc-56c9-4062-db8f-0474371a45fa"
      },
      "source": [
        "random_number = np.random.randint(low=0,high=test_X.shape[0],size=10)\n",
        "print(\"10 random test results ------- \\n\\n\")\n",
        "for i in random_number:\n",
        "    plt.imshow(test_X[i].reshape(227,227),cmap='gray')\n",
        "    temp=test_X[i].reshape((1,28,28))\n",
        "    prediction=model.predict(temp)\n",
        "    print(prediction)\n",
        "    number=np.argmax(prediction)+1\n",
        "    if number==10:\n",
        "        number=0\n",
        "    print(\"Predicted by Trained model : \"+str(number)+\"\\n\")\n",
        "    print(\"Matching with result : \"+str(prediction[0,np.argmax(prediction)]*100)+\"\\n\")\n",
        "    plt.show()\n",
        "    print(\"\\n\\n\\n\")"
      ],
      "execution_count": null,
      "outputs": [
        {
          "output_type": "stream",
          "text": [
            "10 random test results ------- \n",
            "\n",
            "\n",
            "[[5.6662415e-08 1.0588796e-04 2.6506625e-05 1.0237801e-06 4.5961275e-07\n",
            "  1.1520398e-10 9.9824739e-01 4.3644312e-05 1.5723599e-03 2.5649056e-06]]\n",
            "Predicted by Trained model : 7\n",
            "\n",
            "Matching with result : 99.82473850250244\n",
            "\n"
          ],
          "name": "stdout"
        },
        {
          "output_type": "display_data",
          "data": {
            "image/png": "[encoded data removed]",
            "text/plain": [
              "<Figure size 432x288 with 1 Axes>"
            ]
          },
          "metadata": {
            "tags": [],
            "needs_background": "light"
          }
        },
        {
          "output_type": "stream",
          "text": [
            "\n",
            "\n",
            "\n",
            "\n",
            "[[1.2146173e-05 9.7938275e-01 6.5107626e-04 2.3341834e-06 7.7148648e-08\n",
            "  1.1559756e-07 3.1127088e-06 1.9946668e-02 1.6918389e-06 5.5664621e-08]]\n",
            "Predicted by Trained model : 2\n",
            "\n",
            "Matching with result : 97.93827533721924\n",
            "\n"
          ],
          "name": "stdout"
        },
        {
          "output_type": "display_data",
          "data": {
            "image/png": "[encoded data removed]",
            "text/plain": [
              "<Figure size 432x288 with 1 Axes>"
            ]
          },
          "metadata": {
            "tags": [],
            "needs_background": "light"
          }
        },
        {
          "output_type": "stream",
          "text": [
            "\n",
            "\n",
            "\n",
            "\n",
            "[[2.0642095e-10 1.1537231e-07 1.9939207e-05 3.1065294e-05 7.5316079e-06\n",
            "  2.6669977e-11 4.0532454e-06 4.0690202e-06 9.9993324e-01 1.3770644e-11]]\n",
            "Predicted by Trained model : 9\n",
            "\n",
            "Matching with result : 99.99332427978516\n",
            "\n"
          ],
          "name": "stdout"
        },
        {
          "output_type": "display_data",
          "data": {
            "image/png": "[encoded data removed]",
            "text/plain": [
              "<Figure size 432x288 with 1 Axes>"
            ]
          },
          "metadata": {
            "tags": [],
            "needs_background": "light"
          }
        },
        {
          "output_type": "stream",
          "text": [
            "\n",
            "\n",
            "\n",
            "\n",
            "[[1.5491356e-11 1.4235486e-06 5.6296517e-04 6.8175181e-11 4.7990414e-03\n",
            "  1.8433149e-05 1.0024289e-09 9.9461359e-01 4.3655282e-06 1.2161824e-07]]\n",
            "Predicted by Trained model : 8\n",
            "\n",
            "Matching with result : 99.46135878562927\n",
            "\n"
          ],
          "name": "stdout"
        },
        {
          "output_type": "display_data",
          "data": {
            "image/png": "[encoded data removed]",
            "text/plain": [
              "<Figure size 432x288 with 1 Axes>"
            ]
          },
          "metadata": {
            "tags": [],
            "needs_background": "light"
          }
        },
        {
          "output_type": "stream",
          "text": [
            "\n",
            "\n",
            "\n",
            "\n",
            "[[3.6152770e-07 9.9704558e-01 1.0047719e-05 6.1731771e-06 1.8984425e-09\n",
            "  2.1393847e-08 1.5040456e-04 2.7872697e-03 1.5211508e-08 2.0350947e-07]]\n",
            "Predicted by Trained model : 2\n",
            "\n",
            "Matching with result : 99.70455765724182\n",
            "\n"
          ],
          "name": "stdout"
        },
        {
          "output_type": "display_data",
          "data": {
            "image/png": "[encoded data removed]",
            "text/plain": [
              "<Figure size 432x288 with 1 Axes>"
            ]
          },
          "metadata": {
            "tags": [],
            "needs_background": "light"
          }
        },
        {
          "output_type": "stream",
          "text": [
            "\n",
            "\n",
            "\n",
            "\n",
            "[[9.9976724e-01 1.1485984e-05 3.0924650e-05 1.0159034e-04 2.3819093e-06\n",
            "  5.2329924e-08 2.8725877e-05 4.9607741e-05 7.9174451e-06 1.3319698e-08]]\n",
            "Predicted by Trained model : 1\n",
            "\n",
            "Matching with result : 99.97672438621521\n",
            "\n"
          ],
          "name": "stdout"
        },
        {
          "output_type": "display_data",
          "data": {
            "image/png": "[encoded data removed]",
            "text/plain": [
              "<Figure size 432x288 with 1 Axes>"
            ]
          },
          "metadata": {
            "tags": [],
            "needs_background": "light"
          }
        },
        {
          "output_type": "stream",
          "text": [
            "\n",
            "\n",
            "\n",
            "\n",
            "[[3.6955050e-11 2.4309360e-08 2.4083167e-09 2.1625640e-07 1.4292072e-08\n",
            "  9.9999964e-01 3.9049089e-10 6.1507754e-10 3.6455139e-10 1.2432862e-07]]\n",
            "Predicted by Trained model : 6\n",
            "\n",
            "Matching with result : 99.99996423721313\n",
            "\n"
          ],
          "name": "stdout"
        },
        {
          "output_type": "display_data",
          "data": {
            "image/png": "[encoded data removed]",
            "text/plain": [
              "<Figure size 432x288 with 1 Axes>"
            ]
          },
          "metadata": {
            "tags": [],
            "needs_background": "light"
          }
        },
        {
          "output_type": "stream",
          "text": [
            "\n",
            "\n",
            "\n",
            "\n",
            "[[5.1361508e-07 1.5024750e-03 6.5682610e-03 7.1614323e-07 8.5909155e-09\n",
            "  3.3906076e-11 9.9191028e-01 2.9300554e-06 1.4777436e-05 3.4912105e-08]]\n",
            "Predicted by Trained model : 7\n",
            "\n",
            "Matching with result : 99.19102787971497\n",
            "\n"
          ],
          "name": "stdout"
        },
        {
          "output_type": "display_data",
          "data": {
            "image/png": "[encoded data removed]",
            "text/plain": [
              "<Figure size 432x288 with 1 Axes>"
            ]
          },
          "metadata": {
            "tags": [],
            "needs_background": "light"
          }
        },
        {
          "output_type": "stream",
          "text": [
            "\n",
            "\n",
            "\n",
            "\n",
            "[[3.64210939e-10 1.91471131e-07 1.24948713e-06 1.00068135e-07\n",
            "  3.10347588e-07 9.99853015e-01 1.23518445e-10 1.84318542e-05\n",
            "  2.35185257e-06 1.24273967e-04]]\n",
            "Predicted by Trained model : 6\n",
            "\n",
            "Matching with result : 99.98530149459839\n",
            "\n"
          ],
          "name": "stdout"
        },
        {
          "output_type": "display_data",
          "data": {
            "image/png": "[encoded data removed]",
            "text/plain": [
              "<Figure size 432x288 with 1 Axes>"
            ]
          },
          "metadata": {
            "tags": [],
            "needs_background": "light"
          }
        },
        {
          "output_type": "stream",
          "text": [
            "\n",
            "\n",
            "\n",
            "\n",
            "[[3.8536521e-10 2.3223726e-07 1.7082395e-05 9.9320241e-10 2.6604179e-05\n",
            "  2.1155547e-07 2.7309928e-09 9.9995482e-01 1.0736974e-06 1.3765553e-08]]\n",
            "Predicted by Trained model : 8\n",
            "\n",
            "Matching with result : 99.99548196792603\n",
            "\n"
          ],
          "name": "stdout"
        },
        {
          "output_type": "display_data",
          "data": {
            "image/png": "[encoded data removed]",
            "text/plain": [
              "<Figure size 432x288 with 1 Axes>"
            ]
          },
          "metadata": {
            "tags": [],
            "needs_background": "light"
          }
        },
        {
          "output_type": "stream",
          "text": [
            "\n",
            "\n",
            "\n",
            "\n"
          ],
          "name": "stdout"
        }
      ]
    },
    {
      "cell_type": "code",
      "metadata": {
        "id": "SuvKbX26im65"
      },
      "source": [
        "model.save(\"/content/drive/MyDrive/Digit Recognition/model.h5\",overwrite=True)"
      ],
      "execution_count": null,
      "outputs": []
    },
    {
      "cell_type": "code",
      "metadata": {
        "colab": {
          "base_uri": "https://localhost:8080/",
          "height": 17
        },
        "id": "RHG6Ex9LZO9w",
        "outputId": "4b047f03-6d25-4921-bde6-5887e4960cd8"
      },
      "source": [
        "from IPython.display import display, Javascript\n",
        "from google.colab.output import eval_js\n",
        "from base64 import b64decode\n",
        " \n",
        "def take_photo(filename='image.jpg', quality=0.89):\n",
        "  js = Javascript('''\n",
        "    async function takePhoto(quality) {\n",
        "      const div = document.createElement('div');\n",
        "      const capture = document.createElement('button');\n",
        "      capture.textContent = 'Capture';\n",
        "      div.appendChild(capture);\n",
        "      const video = document.createElement('video');\n",
        "      video.style.display = 'block';\n",
        "      const stream = await navigator.mediaDevices.getUserMedia({video: true});\n",
        "      document.body.appendChild(div);\n",
        "      div.appendChild(video);\n",
        "      video.srcObject = stream;\n",
        "      await video.play();\n",
        "      google.colab.output.setIframeHeight(document.documentElement.scrollHeight, true);\n",
        "      await new Promise((resolve) => capture.onclick = resolve);\n",
        "      const canvas = document.createElement('canvas');\n",
        "      canvas.width = video.videoWidth;\n",
        "      canvas.height = video.videoHeight;\n",
        "      canvas.getContext('2d').drawImage(video, 0, 0);\n",
        "      stream.getVideoTracks()[0].stop();\n",
        "      div.remove();\n",
        "      return canvas.toDataURL('image/jpeg', quality);\n",
        "    }\n",
        "    ''')\n",
        "  display(js)\n",
        "  data = eval_js('takePhoto({})'.format(quality))\n",
        "  binary = b64decode(data.split(',')[1])\n",
        "  with open(filename, 'wb') as f:\n",
        "    f.write(binary)\n",
        "  return filename\n",
        " \n",
        "from IPython.display import Image\n",
        "try : os.remove(\"image.jpg\")\n",
        "except : pass\n",
        "try:\n",
        "  filename = take_photo()\n",
        "except Exception as err:\n",
        "  print(str(err))"
      ],
      "execution_count": null,
      "outputs": [
        {
          "output_type": "display_data",
          "data": {
            "application/javascript": [
              "\n",
              "    async function takePhoto(quality) {\n",
              "      const div = document.createElement('div');\n",
              "      const capture = document.createElement('button');\n",
              "      capture.textContent = 'Capture';\n",
              "      div.appendChild(capture);\n",
              "      const video = document.createElement('video');\n",
              "      video.style.display = 'block';\n",
              "      const stream = await navigator.mediaDevices.getUserMedia({video: true});\n",
              "      document.body.appendChild(div);\n",
              "      div.appendChild(video);\n",
              "      video.srcObject = stream;\n",
              "      await video.play();\n",
              "      google.colab.output.setIframeHeight(document.documentElement.scrollHeight, true);\n",
              "      await new Promise((resolve) => capture.onclick = resolve);\n",
              "      const canvas = document.createElement('canvas');\n",
              "      canvas.width = video.videoWidth;\n",
              "      canvas.height = video.videoHeight;\n",
              "      canvas.getContext('2d').drawImage(video, 0, 0);\n",
              "      stream.getVideoTracks()[0].stop();\n",
              "      div.remove();\n",
              "      return canvas.toDataURL('image/jpeg', quality);\n",
              "    }\n",
              "    "
            ],
            "text/plain": [
              "<IPython.core.display.Javascript object>"
            ]
          },
          "metadata": {
            "tags": []
          }
        }
      ]
    },
    {
      "cell_type": "code",
      "metadata": {
        "id": "rKmKdgFFbcyK"
      },
      "source": [
        "from tensorflow.keras.preprocessing import image\n",
        "img_path = \"image.jpg\"\n",
        "img = image.load_img(img_path,target_size=(28,28,1))\n",
        "x = image.img_to_array(img)\n",
        "x = tf.image.rgb_to_grayscale(x)\n",
        "plt.imshow(np.squeeze(x),cmap='gray')\n",
        "x = np.expand_dims(x, axis=0)\n",
        "prediction = model.predict(x)\n",
        "number = np.argmax(prediction)+1\n",
        "if number==10:\n",
        "    number=0\n",
        "print(\"Prediction by Model for uploaded image : \"+str(number)+'\\n\\n')"
      ],
      "execution_count": null,
      "outputs": []
    },
    {
      "cell_type": "code",
      "metadata": {
        "id": "2jyJtlfHla2w"
      },
      "source": [],
      "execution_count": null,
      "outputs": []
    }
  ]
}